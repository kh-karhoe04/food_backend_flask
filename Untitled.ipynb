{
 "cells": [
  {
   "cell_type": "code",
   "execution_count": 1,
   "id": "123b56ef-1820-4fb1-8399-c790dca7d001",
   "metadata": {},
   "outputs": [
    {
     "name": "stdout",
     "output_type": "stream",
     "text": [
      "Requirement already satisfied: flask in d:\\users\\jackh\\anaconda3\\lib\\site-packages (3.1.0)\n",
      "Requirement already satisfied: pandas in d:\\users\\jackh\\anaconda3\\lib\\site-packages (2.2.3)\n",
      "Requirement already satisfied: scikit-learn in d:\\users\\jackh\\anaconda3\\lib\\site-packages (1.6.1)\n",
      "Requirement already satisfied: Werkzeug>=3.1 in d:\\users\\jackh\\anaconda3\\lib\\site-packages (from flask) (3.1.3)\n",
      "Requirement already satisfied: Jinja2>=3.1.2 in d:\\users\\jackh\\anaconda3\\lib\\site-packages (from flask) (3.1.6)\n",
      "Requirement already satisfied: itsdangerous>=2.2 in d:\\users\\jackh\\anaconda3\\lib\\site-packages (from flask) (2.2.0)\n",
      "Requirement already satisfied: click>=8.1.3 in d:\\users\\jackh\\anaconda3\\lib\\site-packages (from flask) (8.1.8)\n",
      "Requirement already satisfied: blinker>=1.9 in d:\\users\\jackh\\anaconda3\\lib\\site-packages (from flask) (1.9.0)\n",
      "Requirement already satisfied: numpy>=1.26.0 in d:\\users\\jackh\\anaconda3\\lib\\site-packages (from pandas) (2.1.3)\n",
      "Requirement already satisfied: python-dateutil>=2.8.2 in d:\\users\\jackh\\anaconda3\\lib\\site-packages (from pandas) (2.9.0.post0)\n",
      "Requirement already satisfied: pytz>=2020.1 in d:\\users\\jackh\\anaconda3\\lib\\site-packages (from pandas) (2024.1)\n",
      "Requirement already satisfied: tzdata>=2022.7 in d:\\users\\jackh\\anaconda3\\lib\\site-packages (from pandas) (2025.2)\n",
      "Requirement already satisfied: scipy>=1.6.0 in d:\\users\\jackh\\anaconda3\\lib\\site-packages (from scikit-learn) (1.15.3)\n",
      "Requirement already satisfied: joblib>=1.2.0 in d:\\users\\jackh\\anaconda3\\lib\\site-packages (from scikit-learn) (1.4.2)\n",
      "Requirement already satisfied: threadpoolctl>=3.1.0 in d:\\users\\jackh\\anaconda3\\lib\\site-packages (from scikit-learn) (3.5.0)\n",
      "Requirement already satisfied: colorama in d:\\users\\jackh\\anaconda3\\lib\\site-packages (from click>=8.1.3->flask) (0.4.6)\n",
      "Requirement already satisfied: MarkupSafe>=2.0 in d:\\users\\jackh\\anaconda3\\lib\\site-packages (from Jinja2>=3.1.2->flask) (3.0.2)\n",
      "Requirement already satisfied: six>=1.5 in d:\\users\\jackh\\anaconda3\\lib\\site-packages (from python-dateutil>=2.8.2->pandas) (1.17.0)\n"
     ]
    }
   ],
   "source": [
    "!pip install flask pandas scikit-learn\n"
   ]
  },
  {
   "cell_type": "code",
   "execution_count": 2,
   "id": "2f4e1d46-352b-4f1c-bc1f-4355a3054ed8",
   "metadata": {},
   "outputs": [],
   "source": [
    "import pandas as pd\n",
    "from sklearn.metrics.pairwise import cosine_similarity\n",
    "\n",
    "def load_data():\n",
    "    df = pd.read_csv('ratings.csv')\n",
    "    matrix = df.pivot_table(index='user_id', columns='food', values='rating').fillna(0)\n",
    "    return matrix\n",
    "\n",
    "def get_user_similarity(matrix):\n",
    "    return cosine_similarity(matrix)\n",
    "\n",
    "def get_recommendations(user_id, matrix):\n",
    "    if user_id not in matrix.index:\n",
    "        return {}\n",
    "    \n",
    "    user_index = list(matrix.index).index(user_id)\n",
    "    sim_matrix = get_user_similarity(matrix)\n",
    "    sim_scores = sim_matrix[user_index]\n",
    "    \n",
    "    sim_df = pd.Series(sim_scores, index=matrix.index).drop(user_id)\n",
    "    weighted_ratings = matrix.T.dot(sim_df) / sim_df.sum()\n",
    "    user_rated = matrix.loc[user_id]\n",
    "    \n",
    "    recommendations = weighted_ratings[user_rated == 0]\n",
    "    return recommendations.sort_values(ascending=False).head(5).to_dict()\n"
   ]
  },
  {
   "cell_type": "code",
   "execution_count": null,
   "id": "49e22b76-fd72-4b1c-82cd-b2deac51e6a9",
   "metadata": {},
   "outputs": [],
   "source": []
  }
 ],
 "metadata": {
  "kernelspec": {
   "display_name": "Python [conda env:base] *",
   "language": "python",
   "name": "conda-base-py"
  },
  "language_info": {
   "codemirror_mode": {
    "name": "ipython",
    "version": 3
   },
   "file_extension": ".py",
   "mimetype": "text/x-python",
   "name": "python",
   "nbconvert_exporter": "python",
   "pygments_lexer": "ipython3",
   "version": "3.13.5"
  }
 },
 "nbformat": 4,
 "nbformat_minor": 5
}
